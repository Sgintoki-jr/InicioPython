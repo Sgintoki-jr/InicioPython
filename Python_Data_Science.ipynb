{
  "nbformat": 4,
  "nbformat_minor": 0,
  "metadata": {
    "colab": {
      "provenance": [],
      "include_colab_link": true
    },
    "kernelspec": {
      "name": "python3",
      "display_name": "Python 3"
    },
    "language_info": {
      "name": "python"
    }
  },
  "cells": [
    {
      "cell_type": "markdown",
      "metadata": {
        "id": "view-in-github",
        "colab_type": "text"
      },
      "source": [
        "<a href=\"https://colab.research.google.com/github/Sgintoki-jr/InicioPython/blob/main/Python_Data_Science.ipynb\" target=\"_parent\"><img src=\"https://colab.research.google.com/assets/colab-badge.svg\" alt=\"Open In Colab\"/></a>"
      ]
    },
    {
      "cell_type": "markdown",
      "source": [
        "# Python para Data Science\n",
        "\n",
        "Notebook para el curso de Python para Data Science publicado en la plataforma de [Alura Latam](https://www.aluracursos.com/)"
      ],
      "metadata": {
        "id": "lQx6Mmv0OJyT"
      }
    },
    {
      "cell_type": "markdown",
      "source": [
        "# Introducción a Python\n",
        "¡Vamos a conocer Python, nuestro ambiente de estudio, y también generaremos nuestro primer código en este lenguaje!"
      ],
      "metadata": {
        "id": "7SiB6JIpYKmY"
      }
    },
    {
      "cell_type": "markdown",
      "source": [
        "## Google Colaboratory\n",
        "\n",
        "Ya aprendimos qué es [Python](https://www.python.org/) y ahora aprenderemos a usar nuestra herramienta de ejecución [Google Colaboratory](https://colab.research.google.com/) para programar en un notebook interactivo.\n",
        "\n",
        "Vamos a probar algunas funciones de este ambiente."
      ],
      "metadata": {
        "id": "Yugfb3fCOYY9"
      }
    },
    {
      "cell_type": "markdown",
      "source": [
        " **`>>> Usa esta celda para mover <<<`**"
      ],
      "metadata": {
        "id": "2iUHQsJasJAk"
      }
    },
    {
      "cell_type": "markdown",
      "source": [
        "## ¡Hola mundo!\n",
        "\n",
        "Vamos a conocer un poco más de cerca nuestro notebook. Para ello ejecutaremos nuestro primer comando en Python: [`print()`](https://docs.python.org/3/library/functions.html#print)"
      ],
      "metadata": {
        "id": "aLSFP2V7XTfe"
      }
    },
    {
      "cell_type": "code",
      "source": [
        "print('¡Hola Mundo!')"
      ],
      "metadata": {
        "id": "0qZX8_ZQBYyk",
        "outputId": "87165c8b-bc58-4831-93d1-e2d100494c11",
        "colab": {
          "base_uri": "https://localhost:8080/"
        }
      },
      "execution_count": 1,
      "outputs": [
        {
          "output_type": "stream",
          "name": "stdout",
          "text": [
            "¡Hola Mundo!\n"
          ]
        }
      ]
    },
    {
      "cell_type": "code",
      "source": [
        "15"
      ],
      "metadata": {
        "id": "GLMzF_AKBY7a",
        "colab": {
          "base_uri": "https://localhost:8080/"
        },
        "outputId": "df4417a0-f2df-4466-87f7-23ac2d23328a"
      },
      "execution_count": 2,
      "outputs": [
        {
          "output_type": "execute_result",
          "data": {
            "text/plain": [
              "15"
            ]
          },
          "metadata": {},
          "execution_count": 2
        }
      ]
    },
    {
      "cell_type": "code",
      "source": [
        "print('mi nombre es sgintoki, me gusta aprender y tengo menos de un siglo');"
      ],
      "metadata": {
        "id": "STkuaI1hEtNR",
        "outputId": "744ede51-dbac-4763-d1e9-4b3f5ae3c61a",
        "colab": {
          "base_uri": "https://localhost:8080/"
        }
      },
      "execution_count": 3,
      "outputs": [
        {
          "output_type": "stream",
          "name": "stdout",
          "text": [
            "mi nombre es sgintoki, me gusta aprender y tengo menos de un siglo\n"
          ]
        }
      ]
    },
    {
      "cell_type": "code",
      "source": [
        "id(15)"
      ],
      "metadata": {
        "id": "OlnXtBmcIYHb",
        "outputId": "d67fec20-7bcc-42d9-abfb-2b68cadfc7f0",
        "colab": {
          "base_uri": "https://localhost:8080/"
        }
      },
      "execution_count": 5,
      "outputs": [
        {
          "output_type": "execute_result",
          "data": {
            "text/plain": [
              "11642536"
            ]
          },
          "metadata": {},
          "execution_count": 5
        }
      ]
    },
    {
      "cell_type": "code",
      "source": [
        "edad=15"
      ],
      "metadata": {
        "id": "FTcM3hTpIYAI"
      },
      "execution_count": 6,
      "outputs": []
    },
    {
      "cell_type": "code",
      "source": [
        "print(id(15))\n",
        "print(id(edad))"
      ],
      "metadata": {
        "id": "YaB85u6KIX3j",
        "outputId": "cc11409a-3345-4a02-e188-b5a6ed397a4f",
        "colab": {
          "base_uri": "https://localhost:8080/"
        }
      },
      "execution_count": 7,
      "outputs": [
        {
          "output_type": "stream",
          "name": "stdout",
          "text": [
            "11642536\n",
            "11642536\n"
          ]
        }
      ]
    },
    {
      "cell_type": "code",
      "source": [
        "numeroQuince=15"
      ],
      "metadata": {
        "id": "mXNWcZgXIXnn"
      },
      "execution_count": 8,
      "outputs": []
    },
    {
      "cell_type": "code",
      "source": [
        "id(numeroQuince)"
      ],
      "metadata": {
        "id": "e3mTfvzuL9WV",
        "outputId": "81f409ea-8e8c-4b7e-8bc3-7668819e972c",
        "colab": {
          "base_uri": "https://localhost:8080/"
        }
      },
      "execution_count": 9,
      "outputs": [
        {
          "output_type": "execute_result",
          "data": {
            "text/plain": [
              "11642536"
            ]
          },
          "metadata": {},
          "execution_count": 9
        }
      ]
    },
    {
      "cell_type": "code",
      "source": [
        "nombre='Gabriel'"
      ],
      "metadata": {
        "id": "F98aYBZcL8-b"
      },
      "execution_count": 10,
      "outputs": []
    },
    {
      "cell_type": "code",
      "source": [
        "id('Gabriel')"
      ],
      "metadata": {
        "id": "7wngnh-PNDXr",
        "outputId": "6a7277a1-3150-412e-9f8b-06563b5aac76",
        "colab": {
          "base_uri": "https://localhost:8080/"
        }
      },
      "execution_count": 11,
      "outputs": [
        {
          "output_type": "execute_result",
          "data": {
            "text/plain": [
              "132657410414688"
            ]
          },
          "metadata": {},
          "execution_count": 11
        }
      ]
    },
    {
      "cell_type": "code",
      "source": [
        "id(nombre)"
      ],
      "metadata": {
        "id": "tJTs0NbQNDLj",
        "outputId": "30c3badf-b7f3-4339-c982-8c73a839a9b5",
        "colab": {
          "base_uri": "https://localhost:8080/"
        }
      },
      "execution_count": 12,
      "outputs": [
        {
          "output_type": "execute_result",
          "data": {
            "text/plain": [
              "132657410414688"
            ]
          },
          "metadata": {},
          "execution_count": 12
        }
      ]
    },
    {
      "cell_type": "markdown",
      "source": [
        "# Manipulando los datos\n",
        "\n",
        "Vamos a aprender sobre las variables en Python, cómo declararlas y utilizarlas además de conocer otros comandos de este lenguaje. :D"
      ],
      "metadata": {
        "id": "iP8uWQmFYFRs"
      }
    },
    {
      "cell_type": "markdown",
      "source": [
        "## Variables\n",
        "\n",
        "En Data Science trabajamos con varios tipos de datos e informaciones, entonces es esencial saber cómo trabajar con las variables."
      ],
      "metadata": {
        "id": "sLNVmnTbag1Z"
      }
    },
    {
      "cell_type": "markdown",
      "source": [
        "Las variables en Python se crean cuando atribuimos un valor a ella.\n",
        "\n",
        "Para esto, colocamos el nombre de la variable, el signo de igual (`=`) y el valor que queremos atribuirle."
      ],
      "metadata": {
        "id": "lsCY0wahAbf6"
      }
    },
    {
      "cell_type": "code",
      "source": [
        "edad=5"
      ],
      "metadata": {
        "id": "vsHh5buZADND"
      },
      "execution_count": 14,
      "outputs": []
    },
    {
      "cell_type": "code",
      "source": [
        "type(edad)"
      ],
      "metadata": {
        "id": "sivPtqSjADQV",
        "outputId": "45dc8fea-7ff0-4439-ff01-d2bfede980b9",
        "colab": {
          "base_uri": "https://localhost:8080/"
        }
      },
      "execution_count": 15,
      "outputs": [
        {
          "output_type": "execute_result",
          "data": {
            "text/plain": [
              "int"
            ]
          },
          "metadata": {},
          "execution_count": 15
        }
      ]
    },
    {
      "cell_type": "code",
      "source": [
        "promedio=9.5"
      ],
      "metadata": {
        "id": "JC8jO47wADlm"
      },
      "execution_count": 16,
      "outputs": []
    },
    {
      "cell_type": "code",
      "source": [
        "type(promedio)"
      ],
      "metadata": {
        "id": "siN6Rd_xOuQY",
        "outputId": "6f5a4f9c-70b6-4571-9971-1bcaa78a1fab",
        "colab": {
          "base_uri": "https://localhost:8080/"
        }
      },
      "execution_count": 17,
      "outputs": [
        {
          "output_type": "execute_result",
          "data": {
            "text/plain": [
              "float"
            ]
          },
          "metadata": {},
          "execution_count": 17
        }
      ]
    },
    {
      "cell_type": "code",
      "source": [
        "nombre='Alvaro'\n",
        "type(nombre)"
      ],
      "metadata": {
        "id": "xHH8EHX4OuKX",
        "outputId": "58b804e2-2b64-4946-f9fc-865fa905e2ee",
        "colab": {
          "base_uri": "https://localhost:8080/"
        }
      },
      "execution_count": 18,
      "outputs": [
        {
          "output_type": "execute_result",
          "data": {
            "text/plain": [
              "str"
            ]
          },
          "metadata": {},
          "execution_count": 18
        }
      ]
    },
    {
      "cell_type": "code",
      "source": [
        "v=True\n",
        "type(v)"
      ],
      "metadata": {
        "id": "HwgFoEMFOuEC",
        "outputId": "5e8cc7b8-3ed3-4352-96fd-ae2d4e1be3a8",
        "colab": {
          "base_uri": "https://localhost:8080/"
        }
      },
      "execution_count": 20,
      "outputs": [
        {
          "output_type": "execute_result",
          "data": {
            "text/plain": [
              "bool"
            ]
          },
          "metadata": {},
          "execution_count": 20
        }
      ]
    },
    {
      "cell_type": "markdown",
      "source": [
        "Existen algunos tipos de nomes que **no** podemos definir para las variables:\n",
        "\n",
        "- **Nombres que comiencen con números**\n",
        "  - Ejemplos: `10_notas`, `2_nombre_casa`, etc.\n",
        "- **Palabras separadas por espacio**\n",
        "  - Ejemplos: `Nombre escuela`, `notas estudiantes`, etc.\n",
        "- **Nombres de funciones de Python**\n",
        "  - Ejemplos: `print`, `type`, etc."
      ],
      "metadata": {
        "id": "om2N0jHKAzwL"
      }
    },
    {
      "cell_type": "markdown",
      "source": [
        "> Las letras mayúsculas y minúsculas generarán diferentes variables. La variable `edad` es diferente de `Edad` que a su vez es diferente de `EDAD`:\n",
        "``` Python\n",
        "edad = 1\n",
        "Edad = 2\n",
        "EDAD = 3\n",
        "_edad = 4\n",
        "_edad_ = 5\n",
        "print(edad, Edad, EDAD, _edad, _edad_)\n",
        "1 2 3 4 5\n",
        "```"
      ],
      "metadata": {
        "id": "A19vY2GVMujB"
      }
    },
    {
      "cell_type": "markdown",
      "source": [
        "## Tipos de variables\n",
        "\n",
        "Cada variable contiene una clase específica con respecto al tipo de objeto al cual esta hace referencia. Estas clases serán diferentes de acuerdo con el tipo de dato que le sea atribuido a una variable.\n",
        "\n",
        "Para conocer la clase de cada elemento usamos la función [`type()`](https://docs.python.org/3/library/functions.html#type)"
      ],
      "metadata": {
        "id": "UqhzuBhBHsps"
      }
    },
    {
      "cell_type": "markdown",
      "source": [
        "En un conjunto de datos escolares podemos tener varios tipos de informaciones. Supongamos que tenemos acceso a la ficha de datos del alumno *Penélope Camacho*, cómo transformamos este nombre en variables de Python?\n",
        "\n",
        "#### Ficha:\n",
        "\n",
        "- Nombre: Penélope Camacho\n",
        "- Edad: 11 años\n",
        "- Promedio del semestre: 9,75\n",
        "- Situación de aprobación: Verdadera (aprobado)"
      ],
      "metadata": {
        "id": "O-FxDumfWu0C"
      }
    },
    {
      "cell_type": "code",
      "source": [
        "nombre='Penelope Camacho'\n",
        "edad=11\n",
        "promedio=9.75\n",
        "situacion=True\n",
        "\n",
        "print(nombre,edad,promedio,situacion)\n",
        "print(type(nombre),type(edad),type(promedio),type(situacion))"
      ],
      "metadata": {
        "id": "FabQ7jQf_8Xt",
        "outputId": "d3441974-f807-4ad0-c592-3e66fbf6a3d0",
        "colab": {
          "base_uri": "https://localhost:8080/"
        }
      },
      "execution_count": 21,
      "outputs": [
        {
          "output_type": "stream",
          "name": "stdout",
          "text": [
            "Penelope Camacho 11 9.75 True\n",
            "<class 'str'> <class 'int'> <class 'float'> <class 'bool'>\n"
          ]
        }
      ]
    },
    {
      "cell_type": "markdown",
      "source": [
        "## Variables numéricas\n",
        "\n",
        "Entre los tipos de datos numéricos vamos a enfocarnos en los tipos `entero` y `float`."
      ],
      "metadata": {
        "id": "KFq_8Sxf-OG0"
      }
    },
    {
      "cell_type": "markdown",
      "source": [
        "Tenemos una tabla de información sobre los diversos cargos, cantidad de personas empleadas y el salario correspondiente:\n",
        "\n",
        "|Cargo | Cantidad | Salario|\n",
        "|---|---|---|\n",
        "|Vigilante | 5 | 300 |\n",
        "|Docente | 16| 500|\n",
        "|Coordinador| 2 |600|\n",
        "\n",
        "Necesitamos trabajar con estos datos para obtener:\n",
        "\n",
        "- La cantidad total de empleados;\n",
        "- La diferencia entre el salario más bajo y más alto; y\n",
        "- El promedio ponderado de los salarios de los empleados de la escuela."
      ],
      "metadata": {
        "id": "8_HYUbkVYdQY"
      }
    },
    {
      "cell_type": "code",
      "source": [
        "cVigilante=5\n",
        "sVigilante=300\n",
        "\n",
        "cDocente=16\n",
        "sDocente=500\n",
        "\n",
        "cCoordinador=2\n",
        "sCoordinador=600"
      ],
      "metadata": {
        "id": "F_X-wxdm_5Ys"
      },
      "execution_count": 22,
      "outputs": []
    },
    {
      "cell_type": "code",
      "source": [
        "totalEmpleados=cVigilante+cDocente+cCoordinador\n",
        "print('el total de empleados es:',totalEmpleados)\n",
        "diferenciaSalarial=sCoordinador-sVigilante\n",
        "print('Diferencia salarial maxima: ',diferenciaSalarial)\n",
        "promedioSueldos=(cVigilante*sVigilante+cDocente*sDocente+cCoordinador*sCoordinador)/totalEmpleados\n",
        "print('promedio ponderado de salarios: ',promedioSueldos)"
      ],
      "metadata": {
        "id": "gKmBbhII_5b9",
        "outputId": "4045a315-689e-4459-9595-430320d20298",
        "colab": {
          "base_uri": "https://localhost:8080/"
        }
      },
      "execution_count": 24,
      "outputs": [
        {
          "output_type": "stream",
          "name": "stdout",
          "text": [
            "el total de empleados es: 23\n",
            "Diferencia salarial maxima:  300\n",
            "promedio ponderado de salarios:  465.2173913043478\n"
          ]
        }
      ]
    },
    {
      "cell_type": "code",
      "source": [
        "type(promedioSueldos)"
      ],
      "metadata": {
        "id": "fIugsxNy_53j",
        "outputId": "35f75f89-d018-4f75-d58a-83f898304fb1",
        "colab": {
          "base_uri": "https://localhost:8080/"
        }
      },
      "execution_count": 25,
      "outputs": [
        {
          "output_type": "execute_result",
          "data": {
            "text/plain": [
              "float"
            ]
          },
          "metadata": {},
          "execution_count": 25
        }
      ]
    },
    {
      "cell_type": "markdown",
      "source": [
        "## Strings"
      ],
      "metadata": {
        "id": "yQy7b0ZWoD-P"
      }
    },
    {
      "cell_type": "markdown",
      "source": [
        "Strings hace referencia a un conjunto de caracteres formando un texto.\n",
        "\n",
        "Podemos crear Strings cuando atribuimos un dato a una variable entre comillas sencillas (`'`) o comillas dobles (`\"`)."
      ],
      "metadata": {
        "id": "vlo2-DXusv3s"
      }
    },
    {
      "cell_type": "code",
      "source": [
        "t='Alura'\n",
        "type(t)"
      ],
      "metadata": {
        "id": "ityEWqvh_2wK",
        "outputId": "3659fc47-2020-4f81-d65c-1f00f5673dae",
        "colab": {
          "base_uri": "https://localhost:8080/"
        }
      },
      "execution_count": 27,
      "outputs": [
        {
          "output_type": "execute_result",
          "data": {
            "text/plain": [
              "str"
            ]
          },
          "metadata": {},
          "execution_count": 27
        }
      ]
    },
    {
      "cell_type": "markdown",
      "source": [
        "Las variables textuales son objetos que poseen métodos que nos ayudan a formatear strings. Los métodos los podemos ejecutar al definir un objeto de acuerdo con la siguiente estructura:\n",
        "\n",
        "```\n",
        "objeto.metodo()\n",
        "```\n",
        "\n",
        "Existen métodos que no necesitan los `()`, siempre es una buena práctica verificar la documentación para cada caso."
      ],
      "metadata": {
        "id": "2e9UD_CCxqz_"
      }
    },
    {
      "cell_type": "markdown",
      "source": [
        "---\n",
        "**Situación:**\n",
        "\n",
        "Recibimos una variable con el nombre de una profesora de la escuela para añadirla a los registros. Sin embargo, necesitamos darle un tratamiento a este texto antes de insertarlo al sistema."
      ],
      "metadata": {
        "id": "p6aPmMGP4tf9"
      }
    },
    {
      "cell_type": "code",
      "source": [
        "texto = '  Micaela de los Sanyos '\n",
        "id(texto)"
      ],
      "metadata": {
        "id": "icDWtYTjBO0n",
        "outputId": "56ef7308-3a31-49af-fe3f-e490996c1016",
        "colab": {
          "base_uri": "https://localhost:8080/"
        }
      },
      "execution_count": 39,
      "outputs": [
        {
          "output_type": "execute_result",
          "data": {
            "text/plain": [
              "132657409865200"
            ]
          },
          "metadata": {},
          "execution_count": 39
        }
      ]
    },
    {
      "cell_type": "markdown",
      "source": [
        "El objetivo final es que el nombre aparezca de la siguiente forma:\n",
        "\n",
        "```\n",
        "'MICAELA DE LOS SANTOS'\n",
        "```"
      ],
      "metadata": {
        "id": "Dg2ZXSZOGzjC"
      }
    },
    {
      "cell_type": "markdown",
      "source": [
        "### [`str.upper()` ](https://docs.python.org/3/library/stdtypes.html#str.upper)\n",
        "Convierte una string a mayúsculas."
      ],
      "metadata": {
        "id": "iVTAD8q702eN"
      }
    },
    {
      "cell_type": "code",
      "source": [
        "str.upper(texto)"
      ],
      "metadata": {
        "id": "wMVshJrY_ZXh",
        "outputId": "1b384d46-e763-47a1-d1c3-9c7960cdd273",
        "colab": {
          "base_uri": "https://localhost:8080/",
          "height": 36
        }
      },
      "execution_count": 32,
      "outputs": [
        {
          "output_type": "execute_result",
          "data": {
            "text/plain": [
              "'  MICAELA DE LOS SANYOS '"
            ],
            "application/vnd.google.colaboratory.intrinsic+json": {
              "type": "string"
            }
          },
          "metadata": {},
          "execution_count": 32
        }
      ]
    },
    {
      "cell_type": "markdown",
      "source": [
        "### [`str.lower()`](https://docs.python.org/3/library/stdtypes.html#str.lower)\n",
        "Convierte una string a minúsculas."
      ],
      "metadata": {
        "id": "hbDSBtMV1TpG"
      }
    },
    {
      "cell_type": "code",
      "source": [
        "str.lower(texto)"
      ],
      "metadata": {
        "id": "px3yEeNH_YK4",
        "outputId": "074a915b-58a6-43c4-bad0-cffe991062bc",
        "colab": {
          "base_uri": "https://localhost:8080/",
          "height": 36
        }
      },
      "execution_count": 33,
      "outputs": [
        {
          "output_type": "execute_result",
          "data": {
            "text/plain": [
              "'  micaela de los sanyos '"
            ],
            "application/vnd.google.colaboratory.intrinsic+json": {
              "type": "string"
            }
          },
          "metadata": {},
          "execution_count": 33
        }
      ]
    },
    {
      "cell_type": "markdown",
      "source": [
        "### [`str.strip()`](https://docs.python.org/3/library/stdtypes.html#str.strip)\n",
        "Elimina los espacios en blanco al inicio y al final de una string."
      ],
      "metadata": {
        "id": "kz47eWM11gii"
      }
    },
    {
      "cell_type": "code",
      "source": [
        "str.strip(texto)"
      ],
      "metadata": {
        "id": "76dLgNa4_XAe",
        "outputId": "6a780404-3103-4e0f-b641-41811948b633",
        "colab": {
          "base_uri": "https://localhost:8080/",
          "height": 36
        }
      },
      "execution_count": 34,
      "outputs": [
        {
          "output_type": "execute_result",
          "data": {
            "text/plain": [
              "'Micaela de los Sanyos'"
            ],
            "application/vnd.google.colaboratory.intrinsic+json": {
              "type": "string"
            }
          },
          "metadata": {},
          "execution_count": 34
        }
      ]
    },
    {
      "cell_type": "markdown",
      "source": [
        "### [`str.replace(antiguo, nuevo)`](https://docs.python.org/3/library/stdtypes.html#str.replace)\n",
        "\n",
        "Sustituye todas las ocurrencias del texto \"antiguo\" en la string por el  \"nuevo\"."
      ],
      "metadata": {
        "id": "m6notiyS1SCV"
      }
    },
    {
      "cell_type": "code",
      "source": [
        "str.replace(texto,'y','t')"
      ],
      "metadata": {
        "id": "PNXAixtE_V6R",
        "outputId": "66200e2b-d616-4331-f193-658a1465fbb7",
        "colab": {
          "base_uri": "https://localhost:8080/",
          "height": 36
        }
      },
      "execution_count": 36,
      "outputs": [
        {
          "output_type": "execute_result",
          "data": {
            "text/plain": [
              "'  Micaela de los Santos '"
            ],
            "application/vnd.google.colaboratory.intrinsic+json": {
              "type": "string"
            }
          },
          "metadata": {},
          "execution_count": 36
        }
      ]
    },
    {
      "cell_type": "code",
      "source": [
        "texto\n",
        "id(texto)"
      ],
      "metadata": {
        "id": "UXyfA0xwVceA",
        "outputId": "53767a92-36a1-4e63-fe3e-70b1ad0facc5",
        "colab": {
          "base_uri": "https://localhost:8080/"
        }
      },
      "execution_count": 40,
      "outputs": [
        {
          "output_type": "execute_result",
          "data": {
            "text/plain": [
              "132657409865200"
            ]
          },
          "metadata": {},
          "execution_count": 40
        }
      ]
    },
    {
      "cell_type": "markdown",
      "source": [
        "### Observaciones\n",
        "\n",
        "1. Los métodos devuelven una **tranformación**, no son ejecutados directamente sobre la variable donde está almacenado el texto.\n",
        "\n",
        "2. Adicionalmente, podemos acumular la ejecución de los métodos."
      ],
      "metadata": {
        "id": "zukvEjhG2Rcn"
      }
    },
    {
      "cell_type": "markdown",
      "source": [
        "Para que la transformación se pueda ejecutar debemos atribuir la salida de las transformaciones a las variables"
      ],
      "metadata": {
        "id": "1KbwfVut2h6I"
      }
    },
    {
      "cell_type": "code",
      "source": [
        "nuevoTexto=texto.upper().strip().replace('Y','T')\n",
        "print(nuevoTexto)\n",
        "print(id(texto),id(nuevoTexto))"
      ],
      "metadata": {
        "id": "JjkBRklr_T5n",
        "outputId": "867ecfcb-511b-46e8-8cd1-fb11c88a1dea",
        "colab": {
          "base_uri": "https://localhost:8080/"
        }
      },
      "execution_count": 43,
      "outputs": [
        {
          "output_type": "stream",
          "name": "stdout",
          "text": [
            "MICAELA DE LOS SANTOS\n",
            "132657409865200 132657409394480\n"
          ]
        }
      ]
    },
    {
      "cell_type": "markdown",
      "source": [
        "## Capturando datos\n",
        "\n",
        "En algunas aplicaciones necesitamos capturar los valores del usuario de nuestro proyecto. En python, logramos capturar los datos del usuario a través del comando [`input()`](https://docs.python.org/3/library/functions.html#input).\n",
        "\n",
        "Para ejecutar la captura debemos atribuir el resultado de esta función a una variable."
      ],
      "metadata": {
        "id": "0h9Fh5G9kHCa"
      }
    },
    {
      "cell_type": "code",
      "source": [
        "nombre=input('Escribe tu nombre:')"
      ],
      "metadata": {
        "id": "zbH_9i3q_PdY",
        "outputId": "3399ef87-2fef-411e-bf54-99a4ad791127",
        "colab": {
          "base_uri": "https://localhost:8080/"
        }
      },
      "execution_count": 45,
      "outputs": [
        {
          "name": "stdout",
          "output_type": "stream",
          "text": [
            "Escribe tu nombre:Sgintoki\n"
          ]
        }
      ]
    },
    {
      "cell_type": "code",
      "source": [
        "type(nombre)"
      ],
      "metadata": {
        "id": "JZy1Q9Tl_PgL",
        "outputId": "50273cd4-e363-4e1b-eedb-2886e02d7049",
        "colab": {
          "base_uri": "https://localhost:8080/"
        }
      },
      "execution_count": 46,
      "outputs": [
        {
          "output_type": "execute_result",
          "data": {
            "text/plain": [
              "str"
            ]
          },
          "metadata": {},
          "execution_count": 46
        }
      ]
    },
    {
      "cell_type": "markdown",
      "source": [
        "La salida de este comando siempre será una *string*. Esto quiere decir que aunque capturemos un valor de variable numérica, este será de tipo string.\n",
        "\n",
        "Entonces, será necesario **convertir el resultado cuando no se desea utilizar el valor como tipo string**."
      ],
      "metadata": {
        "id": "7z7hcLCk_aCY"
      }
    },
    {
      "cell_type": "markdown",
      "source": [
        "Existen funciones para la conversión de valores:\n",
        "\n",
        "- Enteros: [`int(dato_para_conversion)`](https://docs.python.org/3/library/functions.html#int)\n",
        "- Coma flotante: [`float(dato_para_conversion)`](https://docs.python.org/3/library/functions.html#float)\n",
        "- String: [`str(dato_para_conversion)`](https://docs.python.org/3/library/functions.html#func-str)\n",
        "- Booleano: [`bool(dato_para_conversion)`](https://docs.python.org/3/library/functions.html#bool)"
      ],
      "metadata": {
        "id": "TOlegATj1Jfp"
      }
    },
    {
      "cell_type": "code",
      "source": [
        "aAdmision=int(input('Ingresa el año de admision: '))\n",
        "\n",
        "aSalida=int(input('Ingresa el año de salida: '))"
      ],
      "metadata": {
        "id": "M2ueeH6l_NMe",
        "outputId": "5ceecdbb-9055-4803-9c9a-ea77b845c1d5",
        "colab": {
          "base_uri": "https://localhost:8080/"
        }
      },
      "execution_count": 51,
      "outputs": [
        {
          "name": "stdout",
          "output_type": "stream",
          "text": [
            "Ingresa el año de admision: 2020\n",
            "Ingresa el año de salida: 2024\n"
          ]
        }
      ]
    },
    {
      "cell_type": "code",
      "source": [
        "aAdmision+aSalida"
      ],
      "metadata": {
        "id": "xfWwuViK_NUn",
        "outputId": "869982b6-63b4-446b-85ff-994a60bb0d29",
        "colab": {
          "base_uri": "https://localhost:8080/"
        }
      },
      "execution_count": 52,
      "outputs": [
        {
          "output_type": "execute_result",
          "data": {
            "text/plain": [
              "4044"
            ]
          },
          "metadata": {},
          "execution_count": 52
        }
      ]
    },
    {
      "cell_type": "code",
      "source": [
        "notaSalida=float(input('Nota de Salida: '))"
      ],
      "metadata": {
        "id": "uFCHDyew_NZm",
        "outputId": "b69b934b-e2d1-4ef1-91dc-9b16a8db92fb",
        "colab": {
          "base_uri": "https://localhost:8080/"
        }
      },
      "execution_count": 53,
      "outputs": [
        {
          "name": "stdout",
          "output_type": "stream",
          "text": [
            "Nota de Salida: 9.5\n"
          ]
        }
      ]
    },
    {
      "cell_type": "markdown",
      "source": [
        "Trataremos de representar mejor ahora el resultado de la transformación que obtuvimos. Nosotros podemos formatear y presentar nuestro resultado mezclando strings con valores no textuales.\n",
        "\n",
        "Para ello utilizamos la estructura de formatación `f` con strings."
      ],
      "metadata": {
        "id": "yNI2-XTbB3aS"
      }
    },
    {
      "cell_type": "code",
      "source": [
        "print(f'El año de admision fue: {aAdmision} \\n El año de salida fue: {aSalida} \\n La nota de salida fue: {notaSalida}')"
      ],
      "metadata": {
        "id": "keJjA5N9_K5i",
        "outputId": "df6ff3f7-7229-45b1-ba1a-08a262315ac8",
        "colab": {
          "base_uri": "https://localhost:8080/"
        }
      },
      "execution_count": 54,
      "outputs": [
        {
          "output_type": "stream",
          "name": "stdout",
          "text": [
            "El año de admision fue: 2020 \n",
            " El año de salida fue: 2024 \n",
            " La nota de salida fue: 9.5\n"
          ]
        }
      ]
    },
    {
      "cell_type": "markdown",
      "source": [
        "# Estructuras condicionales"
      ],
      "metadata": {
        "id": "NwRaiHHHhhyl"
      }
    },
    {
      "cell_type": "markdown",
      "source": [
        "## `IF` y `ELSE`\n",
        "\n",
        "Los comandos `if` y `else` son dos estructuras condicionales. El comando `if` ejecutará el bloque de comandos en caso de que la condición citada sea  **verdadera**. El comando `else` ejecutará el bloque de comandos en el caso de que la condicional de `if` sea **falsa**."
      ],
      "metadata": {
        "id": "qXZqg9aYEhAh"
      }
    },
    {
      "cell_type": "markdown",
      "source": [
        "El comando `if` es una palabra clave en Python que significa \"si\". Este se emplea para conformar la estructura condicional, que te permite verificar si una determinada condición es verdadera o falsa e, inmediatamente después, ejecute un bloque de código específico dependiendo del resultado de la verificación. La sintaxis para usar el comando `if` es:\n",
        "\n",
        "\n",
        "\n",
        "```\n",
        "if condicion:\n",
        "    # Realiza algo\n",
        "```\n",
        "\n"
      ],
      "metadata": {
        "id": "EIhlqHXd2Gil"
      }
    },
    {
      "cell_type": "code",
      "source": [
        "if 2<7:\n",
        "  print('Es verdad')"
      ],
      "metadata": {
        "id": "S2S6XAFz-czM",
        "outputId": "ed84b753-3cbb-4781-800a-b0e26c69a127",
        "colab": {
          "base_uri": "https://localhost:8080/"
        }
      },
      "execution_count": 55,
      "outputs": [
        {
          "output_type": "stream",
          "name": "stdout",
          "text": [
            "Es verdad\n"
          ]
        }
      ]
    },
    {
      "cell_type": "code",
      "source": [
        "if 2>7:\n",
        "  print('Es verdad')\n",
        "print('Fin')"
      ],
      "metadata": {
        "id": "YHkwMMyY-c1r",
        "outputId": "e6b1d0ac-5e24-42e2-90bf-1318046419aa",
        "colab": {
          "base_uri": "https://localhost:8080/"
        }
      },
      "execution_count": 56,
      "outputs": [
        {
          "output_type": "stream",
          "name": "stdout",
          "text": [
            "Fin\n"
          ]
        }
      ]
    },
    {
      "cell_type": "markdown",
      "source": [
        "Ya el comando `else` en Python se usa en junción con la palabra clave `if` para formar una estructura condicional. la sintaxis para usar el `else` es:\n",
        "\n",
        "```\n",
        "if condicion:\n",
        "  # codigo en caso de que sea verdad\n",
        "else:\n",
        "  # codigo en caso de que sea falso\n",
        "```\n",
        "\n",
        "el comando `else` se ejecuta cuando la condición verificada por el `if` es evaluada como `False`."
      ],
      "metadata": {
        "id": "27RW2v_sIKct"
      }
    },
    {
      "cell_type": "code",
      "source": [
        "if 2>7:\n",
        "  print('Es verdad')\n",
        "else:\n",
        "  print('Es falso')\n",
        "print('Fin')"
      ],
      "metadata": {
        "id": "ZTfNJd_f-aOq",
        "outputId": "28a03316-996f-4a22-cfa0-0322199506a7",
        "colab": {
          "base_uri": "https://localhost:8080/"
        }
      },
      "execution_count": 57,
      "outputs": [
        {
          "output_type": "stream",
          "name": "stdout",
          "text": [
            "Es falso\n",
            "Fin\n"
          ]
        }
      ]
    },
    {
      "cell_type": "markdown",
      "source": [
        "---\n",
        "**Situación:**\n",
        "\n",
        "Recibiremos el promedio de la nota de los estudiantes y necesitamos de un algoritmo que ejecute el análisis y determine si el estudiante fue **Aprobado** o **Reprobado**, mostrando un mensaje del resultado. Para ser aprobado, el promedio necesita ser igual o superior a 7.0."
      ],
      "metadata": {
        "id": "BqORg85XX-Nl"
      }
    },
    {
      "cell_type": "code",
      "source": [
        "nota=float(input('Digite la nota: '))\n",
        "\n",
        "print('Su estatus es:')\n",
        "if nota>7:\n",
        "  print('Aprobado')\n",
        "else:\n",
        "  print('Reprobado')\n"
      ],
      "metadata": {
        "id": "UukCN4AQ-YYW",
        "outputId": "686f8a1a-50ec-46a2-c8cf-539648840615",
        "colab": {
          "base_uri": "https://localhost:8080/"
        }
      },
      "execution_count": 58,
      "outputs": [
        {
          "output_type": "stream",
          "name": "stdout",
          "text": [
            "Digite la nota: 9.5\n",
            "Su estatus es:\n",
            "Aprobado\n"
          ]
        }
      ]
    },
    {
      "cell_type": "markdown",
      "source": [
        "Ahora, nuestra institución educativa estableció que las personas que tengan el promedio entre 5.0 y 7.0 pueden participar del curso de **Recuperación** durante las vacaciones para lograr aprobar.\n",
        "\n",
        "Entonces podemos apoyarnos en un conjunto de `if`s para poder estructurar esta nueva condición."
      ],
      "metadata": {
        "id": "bD9O17HB6LUo"
      }
    },
    {
      "cell_type": "code",
      "source": [
        "nota=float(input('Digite la nota: '))\n",
        "\n",
        "print('Su estatus es:')\n",
        "if nota>7:\n",
        "  print('Aprobado')\n",
        "if 7>nota>5:\n",
        "  print('Recuperación')\n",
        "else:\n",
        "  print('Reprobado')"
      ],
      "metadata": {
        "id": "G9cJ5O9--W52",
        "outputId": "fa6e11aa-25ef-44fa-ca41-81ee0b896d85",
        "colab": {
          "base_uri": "https://localhost:8080/"
        }
      },
      "execution_count": 63,
      "outputs": [
        {
          "output_type": "stream",
          "name": "stdout",
          "text": [
            "Digite la nota: 9.2\n",
            "Su estatus es:\n",
            "Aprobado\n",
            "Reprobado\n"
          ]
        }
      ]
    },
    {
      "cell_type": "markdown",
      "source": [
        "Observa que en casos con 3 situaciones como este necesitamos definir bien nuestras condiciones. Pues, si realizamos una condición con `else` al final, este irá a considerar solamente la condición `if` inmediatamente anterior para generar la salida en caso de que el resultado de su operación lógica sea **falso** dando como resultado, dos o más ejecuciones.\n",
        "\n",
        "Por ejemplo:"
      ],
      "metadata": {
        "id": "D5e2mByjvycO"
      }
    },
    {
      "cell_type": "code",
      "source": [
        "nota=float(input('Digite la nota: '))\n",
        "\n",
        "print('Su estatus es:')\n",
        "if nota>7:\n",
        "  print('Aprobado')\n",
        "if 7>nota>5:\n",
        "  print('Recuperación')\n",
        "if nota<5:\n",
        "  print('Reprobado')"
      ],
      "metadata": {
        "id": "C21JmOuK-VU8",
        "outputId": "f4183590-ef62-49dd-fffe-bfdceffcd6c5",
        "colab": {
          "base_uri": "https://localhost:8080/"
        }
      },
      "execution_count": 64,
      "outputs": [
        {
          "output_type": "stream",
          "name": "stdout",
          "text": [
            "Digite la nota: 9.5\n",
            "Su estatus es:\n",
            "Aprobado\n"
          ]
        }
      ]
    },
    {
      "cell_type": "markdown",
      "source": [
        "## `ELIF`\n",
        "\n",
        "El comando `elif` es una palabra clave en Python que significa \"si no, si\" y lo podemos considerar una *contracción* entre `else` e `if`. Se utiliza en conjunto con la palabra clave `if` para formar una estructura condicional en cadena."
      ],
      "metadata": {
        "id": "04T5g-7h4zWx"
      }
    },
    {
      "cell_type": "markdown",
      "source": [
        "la sintaxis para utilizar el comando `elif` es:\n",
        "\n",
        "```\n",
        "if condicion1:\n",
        "    # Realiza algo\n",
        "elif condicion2:\n",
        "    # Realiza otra cosa\n",
        "elif condicion3:\n",
        "    # Realiza otra cosa\n",
        "else:\n",
        "    # Realiza algo diferente\n",
        "```\n",
        "\n",
        "El comando `elif` permite que puedas verificar varias condiciones en cadena, economizando espacio en tu código. Si la primera condición se evalúa como `False`, el interpretador de Python evaluará la próxima condición con el `elif`. Ello continuará hasta que una condición sea evaluada como `True` o hasta que el `else` sea alcazado. Si ninguna de las condiciones es evaluada como `True`, la ejecución del código del comando `else` será iniciada."
      ],
      "metadata": {
        "id": "rNBHr5mm1Lm6"
      }
    },
    {
      "cell_type": "markdown",
      "source": [
        "Vamos a emplear el mismo caso anterior:"
      ],
      "metadata": {
        "id": "MVoykFbB4bd4"
      }
    },
    {
      "cell_type": "code",
      "source": [
        "nota=float(input('Digite la nota: '))\n",
        "\n",
        "print('Su estatus es:')\n",
        "if nota>7:\n",
        "  print('Aprobado')\n",
        "elif 7>nota>5:\n",
        "  print('Recuperación')\n",
        "else:\n",
        "  print('Reprobado')"
      ],
      "metadata": {
        "id": "QFamB78s-TW_",
        "outputId": "50c2ac65-1181-4407-d0b3-dcb176743df2",
        "colab": {
          "base_uri": "https://localhost:8080/"
        }
      },
      "execution_count": 65,
      "outputs": [
        {
          "output_type": "stream",
          "name": "stdout",
          "text": [
            "Digite la nota: 8.5\n",
            "Su estatus es:\n",
            "Aprobado\n"
          ]
        }
      ]
    },
    {
      "cell_type": "markdown",
      "source": [
        "## Operadores\n",
        "\n",
        "Durante la construcción de comandos a veces necesitamos de una elaboración mayor de la expresión condicional, necesitando que algunos operadores lógicos se encuentren integrados."
      ],
      "metadata": {
        "id": "Tf1wSOem6iwZ"
      }
    },
    {
      "cell_type": "markdown",
      "source": [
        "### `AND`, `OR`, `NOT`\n",
        "\n",
        "Los operadores lógicos `and`, `or` y `not` son usados para combinar expresiones lógicas en Python. Ellos son usados frecuentemente en conjunto con el comando `if` para crear estructuras condicionales más complejas.\n"
      ],
      "metadata": {
        "id": "GFIZnRWXGPWO"
      }
    },
    {
      "cell_type": "markdown",
      "source": [
        "- `AND` es usado para verificar si dos condiciones son verdaderas. La expresión lógica¹ `x and y` se evalúa como `True` tan solo si **ambas condiciones `x` y `y` son verdaderas**, y como `False` en caso contrario.\n",
        "\n",
        "- `OR` es usado para verificar si al menos una de las condiciones es verdadera. La expresión lógica `x or y` se evalúa como `True` **si al menos una de las condiciones `x` o `y` es verdadera**, y como `False` si ambas condiciones son falsas.\n",
        "\n",
        "- `NOT` es usado para **negar una condición**. La expresión lógica `not x` es evaluada como `True` si la condición x es falsa, y como `False` si la condición x es verdadera.\n",
        "\n",
        "¹ Una expresión lógica es una declaración que puede ser evaluada como verdadera o falsa. Ella se compone por operandos lógicos² y por operadores lógicos³, que son usados ​​para combinar varias expresiones lógicas en una única expresión.\n",
        "\n",
        "² Los operandos lógicos son los elementos que son comparados o evaluados en una expresión lógica. Ellos son generalmente valores verdaderos o falsos, pero también pueden ser expresiones lógicas más complejas. En Python, los operandos lógicos son los valores `True` y `False`.\n",
        "\n",
        "³ Los operadores lógicos son ls símbolos o palabras clave que son usados ​​para combinar varias expresiones lógicas en una única expresión. En Python, los operadores lógicos son `and`, `or` y `not`, bien como las palabras clave `if`, `elif` e `else`."
      ],
      "metadata": {
        "id": "Z_dgAoHXJbzB"
      }
    },
    {
      "cell_type": "markdown",
      "source": [
        "> Operadores lógicos más comunes\n",
        "\n",
        "|a|b|AND|OR|NOT|\n",
        "|-|-|-|-|-|\n",
        "|0|0|0|0|1\n",
        "|0|1|0|1|-\n",
        "|1|0|0|1|-\n",
        "|1|1|1|1|0\n"
      ],
      "metadata": {
        "id": "2E5aUogf-49u"
      }
    },
    {
      "cell_type": "code",
      "source": [
        "v=True\n",
        "f=False\n",
        "\n",
        "if f and f:\n",
        "  print('verdadero')\n",
        "else:\n",
        "  print('falso')"
      ],
      "metadata": {
        "id": "DFKmpvmS-Pa6",
        "outputId": "1693134d-e583-46a6-e6a9-afd22ec33c09",
        "colab": {
          "base_uri": "https://localhost:8080/"
        }
      },
      "execution_count": 68,
      "outputs": [
        {
          "output_type": "stream",
          "name": "stdout",
          "text": [
            "falso\n"
          ]
        }
      ]
    },
    {
      "cell_type": "code",
      "source": [
        "v=True\n",
        "f=False\n",
        "\n",
        "if f or v:\n",
        "  print('verdadero')\n",
        "else:\n",
        "  print('falso')"
      ],
      "metadata": {
        "id": "W5BIrpOD-PeI",
        "outputId": "93f30c38-a3fe-49a7-9ad3-8a9ce576ebdd",
        "colab": {
          "base_uri": "https://localhost:8080/"
        }
      },
      "execution_count": 70,
      "outputs": [
        {
          "output_type": "stream",
          "name": "stdout",
          "text": [
            "verdadero\n"
          ]
        }
      ]
    },
    {
      "cell_type": "code",
      "source": [
        "v=True\n",
        "f=False\n",
        "\n",
        "if not f:\n",
        "  print('verdadero')\n",
        "else:\n",
        "  print('falso')"
      ],
      "metadata": {
        "id": "fpDhYxq4-PiM",
        "outputId": "b49a263c-f39e-4089-f19c-dcafd8cf4c79",
        "colab": {
          "base_uri": "https://localhost:8080/"
        }
      },
      "execution_count": 72,
      "outputs": [
        {
          "output_type": "stream",
          "name": "stdout",
          "text": [
            "verdadero\n"
          ]
        }
      ]
    },
    {
      "cell_type": "markdown",
      "source": [
        "### `IN`\n",
        "\n",
        "Es usado para verificar si un elemento está presente en una lista, tupla u otra colección de conjunto. La expresión `x in y` se evalúa como `True` si el elemento `x` esta presente na variávelen la variable de conjunto `y`, y como `False` en caso contrario."
      ],
      "metadata": {
        "id": "w7EXG1dhWtja"
      }
    },
    {
      "cell_type": "markdown",
      "source": [
        "Podemos verificarlo con variables de texto.\n",
        "\n",
        "---\n",
        "\n",
        "**Situación:**\n",
        "\n",
        "En la escuela nos entregaron una lista con nombres de estudiantes que fueron aprobados según el promedio del semestre, pero es necesario verificar si algunos nombres están en esa lista para confirmar que los datos estén correctos.\n",
        "\n",
        "La lista distribuida puede ser observada a continuación:\n",
        "\n",
        "```\n",
        "lista = 'Juan Pérez, María González, Pedro Rodríguez, Ana López, Carlos Martínez,\n",
        "    Laura Sánchez, José García, Elena Fernández, Luis Morales, Carmen Torres,\n",
        "    David Ruiz, Isabel Ramírez, Javier Díaz, Sara Herrera, Miguel Castro,\n",
        "    Patricia Ortega, Francisco Vargas, Marta Jiménez, Manuel Medina, Rosa Molina,\n",
        "    Alejandro Silva, Silvia Ruiz, Andrés Torres, Natalia Soto, Diego Guerrero,\n",
        "    Paula Ríos, Ricardo Navarro, Alicia Cordero, Carlos Vidal, Lorena Gómez'\n",
        "```\n",
        "\n",
        "Los nombres que necesitas verificar son los siguientes:\n",
        "\n",
        "```\n",
        "nombre_1 = 'Miguel Castro'\n",
        "nombre_2 = 'Marcelo Noguera'\n",
        "```"
      ],
      "metadata": {
        "id": "enJNp6JenQbq"
      }
    },
    {
      "cell_type": "code",
      "source": [
        "lista = 'Juan Pérez, María González, Pedro Rodríguez, Ana López, Carlos Martínez, Laura Sánchez, José García, Elena Fernández, Luis Morales, Carmen Torres, David Ruiz, Isabel Ramírez, Javier Díaz, Sara Herrera, Miguel Castro, Patricia Ortega, Francisco Vargas, Marta Jiménez, Manuel Medina, Rosa Molina, Alejandro Silva, Silvia Ruiz, Andrés Torres, Natalia Soto, Diego Guerrero, Paula Ríos, Ricardo Navarro, Alicia Cordero, Carlos Vidal, Lorena Gómez'\n",
        "\n",
        "nombre_1 = 'Miguel Castro'\n",
        "nombre_2 = 'Marcelo Noguera'"
      ],
      "metadata": {
        "id": "gPPN9BCT-Mki"
      },
      "execution_count": 73,
      "outputs": []
    },
    {
      "cell_type": "code",
      "source": [
        "if nombre_1 in lista:\n",
        "  print(f'\"{nombre_1}\" está aprobado')\n",
        "else:\n",
        "  print(f'\"{nombre_1}\" está reprobado')\n",
        "if nombre_2 in lista:\n",
        "  print(f'\"{nombre_2}\" está aprobado')\n",
        "else:\n",
        "  print(f'\"{nombre_2}\" está reprobado')"
      ],
      "metadata": {
        "id": "GINbG3Fa-Mnb",
        "outputId": "701cdbcf-1906-458b-d040-166d1321dcec",
        "colab": {
          "base_uri": "https://localhost:8080/"
        }
      },
      "execution_count": 80,
      "outputs": [
        {
          "output_type": "stream",
          "name": "stdout",
          "text": [
            "\"Miguel Castro\" está aprobado\n",
            "\"Marcelo Noguera\" está reprobado\n"
          ]
        }
      ]
    },
    {
      "cell_type": "markdown",
      "source": [
        "# Estructuras de repetición"
      ],
      "metadata": {
        "id": "aL1vJPewvwvz"
      }
    },
    {
      "cell_type": "markdown",
      "source": [
        "Cuando tenemos que ejecutar un mismo bloque de comandos durante varias ocasiones no es nada práctico hacerlo a mano.\n",
        "\n",
        "**Situación**: Nos fue solicitado obtener e imprimir el promedio de 2 notas de **3 estudantes**:"
      ],
      "metadata": {
        "id": "VcPfCa8d-84t"
      }
    },
    {
      "cell_type": "code",
      "source": [
        "print('Alumno 1')\n",
        "nota1=float(input('Ingrese la nota 1: '))\n",
        "nota2=float(input('Ingrese la nota 2: '))\n",
        "promedio=round((nota1+nota2)/2,2)\n",
        "print(f'la calificacion del alumno fue: {promedio}')\n",
        "print('\\n')\n",
        "print('Alumno 2')\n",
        "nota1=float(input('Ingrese la nota 1: '))\n",
        "nota2=float(input('Ingrese la nota 2: '))\n",
        "promedio=round((nota1+nota2)/2,2)\n",
        "print(f'la calificacion del alumno fue: {promedio}')\n",
        "print('\\n')\n",
        "print('Alumno 3')\n",
        "nota1=float(input('Ingrese la nota 1: '))\n",
        "nota2=float(input('Ingrese la nota 2: '))\n",
        "promedio=round((nota1+nota2)/2,2)\n",
        "print(f'la calificacion del alumno fue: {promedio}')"
      ],
      "metadata": {
        "id": "xcx21IGT9qA0",
        "outputId": "0ccfd45c-7da8-453c-a3b8-d63e8b84bbbd",
        "colab": {
          "base_uri": "https://localhost:8080/"
        }
      },
      "execution_count": 96,
      "outputs": [
        {
          "output_type": "stream",
          "name": "stdout",
          "text": [
            "Alumno 1\n",
            "Ingrese la nota 1: 7.4\n",
            "Ingrese la nota 2: 9.3\n",
            "la calificacion del alumno fue: 8.35\n",
            "\n",
            "\n",
            "Alumno 2\n",
            "Ingrese la nota 1: 6.2\n",
            "Ingrese la nota 2: 8.7\n",
            "la calificacion del alumno fue: 7.45\n",
            "\n",
            "\n",
            "Alumno 3\n",
            "Ingrese la nota 1: 9.1\n",
            "Ingrese la nota 2: 9.8\n",
            "la calificacion del alumno fue: 9.45\n"
          ]
        }
      ]
    },
    {
      "cell_type": "markdown",
      "source": [
        "Ahora imaginemos una situación en que no son tan solo 3 estudiantes, sino 100 estudiantes. No sería nada interesante repetir el mismo código 100 veces, sino **ejecutar el mismo código 100 veces**.\n",
        "\n",
        "¡Esta estructura la logramos construir con lazos de repetición!"
      ],
      "metadata": {
        "id": "9puIuvUbFSFX"
      }
    },
    {
      "cell_type": "markdown",
      "source": [
        "## `WHILE`"
      ],
      "metadata": {
        "id": "uLO9-aE4-wx8"
      }
    },
    {
      "cell_type": "markdown",
      "source": [
        "El lazo `while` es una estructura de control de repetición en Python que permite ejecutar un bloque de código repetidamente mientras que una determinada condición sea verdadera. Su estructura es:\n",
        "\n",
        "\n",
        "\n",
        "```\n",
        "while condicion:\n",
        "    # bloque de codigo\n",
        "```\n",
        "\n",
        "Vamos a construir un ejemplo con un contador de 1 hasta 10.\n"
      ],
      "metadata": {
        "id": "rXZxDMiqHxm9"
      }
    },
    {
      "cell_type": "code",
      "source": [
        "i=0\n",
        "while i<10:\n",
        "  i=i+1\n",
        "  print(i)\n",
        "print('\\nLlegamos al final')"
      ],
      "metadata": {
        "id": "Hd0ZSWxD9wCD",
        "outputId": "0a9c8d51-ee6e-4153-84f0-0eafbb00e36b",
        "colab": {
          "base_uri": "https://localhost:8080/"
        }
      },
      "execution_count": 90,
      "outputs": [
        {
          "output_type": "stream",
          "name": "stdout",
          "text": [
            "1\n",
            "2\n",
            "3\n",
            "4\n",
            "5\n",
            "6\n",
            "7\n",
            "8\n",
            "9\n",
            "10\n",
            "\n",
            "Llegamos al final\n"
          ]
        }
      ]
    },
    {
      "cell_type": "markdown",
      "source": [
        "Ahora vamos a colectar las notas y promedios de cada alumno dentro del lazo `while`. Haremos un ejemplo con 3 promedios."
      ],
      "metadata": {
        "id": "W4KZPBJuIrut"
      }
    },
    {
      "cell_type": "code",
      "source": [
        "i=0\n",
        "while i<3:\n",
        "  i=i+1\n",
        "  print(f'Alumno {i}')\n",
        "  nota1=float(input('Ingrese la nota 1: '))\n",
        "  nota2=float(input('Ingrese la nota 2: '))\n",
        "  promedio=round((nota1+nota2)/2,2)\n",
        "  print(f'la calificacion del alumno {i} fue: {promedio}')\n",
        "  print('\\n')"
      ],
      "metadata": {
        "id": "9T5eCLFx9wk6",
        "outputId": "8ea76e55-a3c9-4364-f9af-0ede33e2d0f1",
        "colab": {
          "base_uri": "https://localhost:8080/"
        }
      },
      "execution_count": 95,
      "outputs": [
        {
          "output_type": "stream",
          "name": "stdout",
          "text": [
            "Alumno 1\n",
            "Ingrese la nota 1: 6.8\n",
            "Ingrese la nota 2: 8.8\n",
            "la calificacion del alumno 1 fue: 7.8\n",
            "\n",
            "\n",
            "Alumno 2\n",
            "Ingrese la nota 1: 6.9\n",
            "Ingrese la nota 2: 7.4\n",
            "la calificacion del alumno 2 fue: 7.15\n",
            "\n",
            "\n",
            "Alumno 3\n",
            "Ingrese la nota 1: 9.6\n",
            "Ingrese la nota 2: 9.8\n",
            "la calificacion del alumno 3 fue: 9.7\n",
            "\n",
            "\n"
          ]
        }
      ]
    },
    {
      "cell_type": "code",
      "source": [
        "coloniaA=4\n",
        "coloniaB=10\n",
        "\n",
        "dias=0\n",
        "\n",
        "tasaA=round(3/100,3)\n",
        "tasaB=round(1.5/100,3)\n",
        "\n",
        "while coloniaA<coloniaB:\n",
        "  dias=dias+1\n",
        "  coloniaA=round(coloniaA*(1+tasaA),3)\n",
        "  coloniaB=round(coloniaB*(1+tasaB),3)\n",
        "  print(f'En la colonia A hay: {coloniaA} bacterias')\n",
        "  print(f'En la colonia B hay: {coloniaB} bacterias')\n",
        "\n",
        "print(f'Se requirieron {dias} dias para que la colonia A superara a la colonia B')"
      ],
      "metadata": {
        "id": "CYFHSTwq9CMT",
        "outputId": "f4e8fb95-2434-42c3-caae-b03cf539dc25",
        "colab": {
          "base_uri": "https://localhost:8080/"
        }
      },
      "execution_count": 102,
      "outputs": [
        {
          "output_type": "stream",
          "name": "stdout",
          "text": [
            "En la colonia A hay: 4.12 bacterias\n",
            "En la colonia B hay: 10.15 bacterias\n",
            "En la colonia A hay: 4.244 bacterias\n",
            "En la colonia B hay: 10.302 bacterias\n",
            "En la colonia A hay: 4.371 bacterias\n",
            "En la colonia B hay: 10.457 bacterias\n",
            "En la colonia A hay: 4.502 bacterias\n",
            "En la colonia B hay: 10.614 bacterias\n",
            "En la colonia A hay: 4.637 bacterias\n",
            "En la colonia B hay: 10.773 bacterias\n",
            "En la colonia A hay: 4.776 bacterias\n",
            "En la colonia B hay: 10.935 bacterias\n",
            "En la colonia A hay: 4.919 bacterias\n",
            "En la colonia B hay: 11.099 bacterias\n",
            "En la colonia A hay: 5.067 bacterias\n",
            "En la colonia B hay: 11.265 bacterias\n",
            "En la colonia A hay: 5.219 bacterias\n",
            "En la colonia B hay: 11.434 bacterias\n",
            "En la colonia A hay: 5.376 bacterias\n",
            "En la colonia B hay: 11.606 bacterias\n",
            "En la colonia A hay: 5.537 bacterias\n",
            "En la colonia B hay: 11.78 bacterias\n",
            "En la colonia A hay: 5.703 bacterias\n",
            "En la colonia B hay: 11.957 bacterias\n",
            "En la colonia A hay: 5.874 bacterias\n",
            "En la colonia B hay: 12.136 bacterias\n",
            "En la colonia A hay: 6.05 bacterias\n",
            "En la colonia B hay: 12.318 bacterias\n",
            "En la colonia A hay: 6.231 bacterias\n",
            "En la colonia B hay: 12.503 bacterias\n",
            "En la colonia A hay: 6.418 bacterias\n",
            "En la colonia B hay: 12.691 bacterias\n",
            "En la colonia A hay: 6.611 bacterias\n",
            "En la colonia B hay: 12.881 bacterias\n",
            "En la colonia A hay: 6.809 bacterias\n",
            "En la colonia B hay: 13.074 bacterias\n",
            "En la colonia A hay: 7.013 bacterias\n",
            "En la colonia B hay: 13.27 bacterias\n",
            "En la colonia A hay: 7.223 bacterias\n",
            "En la colonia B hay: 13.469 bacterias\n",
            "En la colonia A hay: 7.44 bacterias\n",
            "En la colonia B hay: 13.671 bacterias\n",
            "En la colonia A hay: 7.663 bacterias\n",
            "En la colonia B hay: 13.876 bacterias\n",
            "En la colonia A hay: 7.893 bacterias\n",
            "En la colonia B hay: 14.084 bacterias\n",
            "En la colonia A hay: 8.13 bacterias\n",
            "En la colonia B hay: 14.295 bacterias\n",
            "En la colonia A hay: 8.374 bacterias\n",
            "En la colonia B hay: 14.509 bacterias\n",
            "En la colonia A hay: 8.625 bacterias\n",
            "En la colonia B hay: 14.727 bacterias\n",
            "En la colonia A hay: 8.884 bacterias\n",
            "En la colonia B hay: 14.948 bacterias\n",
            "En la colonia A hay: 9.151 bacterias\n",
            "En la colonia B hay: 15.172 bacterias\n",
            "En la colonia A hay: 9.426 bacterias\n",
            "En la colonia B hay: 15.4 bacterias\n",
            "En la colonia A hay: 9.709 bacterias\n",
            "En la colonia B hay: 15.631 bacterias\n",
            "En la colonia A hay: 10.0 bacterias\n",
            "En la colonia B hay: 15.865 bacterias\n",
            "En la colonia A hay: 10.3 bacterias\n",
            "En la colonia B hay: 16.103 bacterias\n",
            "En la colonia A hay: 10.609 bacterias\n",
            "En la colonia B hay: 16.345 bacterias\n",
            "En la colonia A hay: 10.927 bacterias\n",
            "En la colonia B hay: 16.59 bacterias\n",
            "En la colonia A hay: 11.255 bacterias\n",
            "En la colonia B hay: 16.839 bacterias\n",
            "En la colonia A hay: 11.593 bacterias\n",
            "En la colonia B hay: 17.092 bacterias\n",
            "En la colonia A hay: 11.941 bacterias\n",
            "En la colonia B hay: 17.348 bacterias\n",
            "En la colonia A hay: 12.299 bacterias\n",
            "En la colonia B hay: 17.608 bacterias\n",
            "En la colonia A hay: 12.668 bacterias\n",
            "En la colonia B hay: 17.872 bacterias\n",
            "En la colonia A hay: 13.048 bacterias\n",
            "En la colonia B hay: 18.14 bacterias\n",
            "En la colonia A hay: 13.439 bacterias\n",
            "En la colonia B hay: 18.412 bacterias\n",
            "En la colonia A hay: 13.842 bacterias\n",
            "En la colonia B hay: 18.688 bacterias\n",
            "En la colonia A hay: 14.257 bacterias\n",
            "En la colonia B hay: 18.968 bacterias\n",
            "En la colonia A hay: 14.685 bacterias\n",
            "En la colonia B hay: 19.253 bacterias\n",
            "En la colonia A hay: 15.126 bacterias\n",
            "En la colonia B hay: 19.542 bacterias\n",
            "En la colonia A hay: 15.58 bacterias\n",
            "En la colonia B hay: 19.835 bacterias\n",
            "En la colonia A hay: 16.047 bacterias\n",
            "En la colonia B hay: 20.133 bacterias\n",
            "En la colonia A hay: 16.528 bacterias\n",
            "En la colonia B hay: 20.435 bacterias\n",
            "En la colonia A hay: 17.024 bacterias\n",
            "En la colonia B hay: 20.742 bacterias\n",
            "En la colonia A hay: 17.535 bacterias\n",
            "En la colonia B hay: 21.053 bacterias\n",
            "En la colonia A hay: 18.061 bacterias\n",
            "En la colonia B hay: 21.369 bacterias\n",
            "En la colonia A hay: 18.603 bacterias\n",
            "En la colonia B hay: 21.69 bacterias\n",
            "En la colonia A hay: 19.161 bacterias\n",
            "En la colonia B hay: 22.015 bacterias\n",
            "En la colonia A hay: 19.736 bacterias\n",
            "En la colonia B hay: 22.345 bacterias\n",
            "En la colonia A hay: 20.328 bacterias\n",
            "En la colonia B hay: 22.68 bacterias\n",
            "En la colonia A hay: 20.938 bacterias\n",
            "En la colonia B hay: 23.02 bacterias\n",
            "En la colonia A hay: 21.566 bacterias\n",
            "En la colonia B hay: 23.365 bacterias\n",
            "En la colonia A hay: 22.213 bacterias\n",
            "En la colonia B hay: 23.715 bacterias\n",
            "En la colonia A hay: 22.879 bacterias\n",
            "En la colonia B hay: 24.071 bacterias\n",
            "En la colonia A hay: 23.565 bacterias\n",
            "En la colonia B hay: 24.432 bacterias\n",
            "En la colonia A hay: 24.272 bacterias\n",
            "En la colonia B hay: 24.798 bacterias\n",
            "En la colonia A hay: 25.0 bacterias\n",
            "En la colonia B hay: 25.17 bacterias\n",
            "En la colonia A hay: 25.75 bacterias\n",
            "En la colonia B hay: 25.548 bacterias\n",
            "Se requirieron 63 dias para que la colonia A superara a la colonia B\n"
          ]
        }
      ]
    },
    {
      "cell_type": "markdown",
      "source": [
        "## `FOR`"
      ],
      "metadata": {
        "id": "WgAIaENMMfCP"
      }
    },
    {
      "cell_type": "markdown",
      "source": [
        "El lazo `for` es un tipo de estructura de control de flujo en Python que permite iterar sobre un conjunto de elementos. Su estructura es:\n",
        "\n",
        "\n",
        "\n",
        "```\n",
        "for elemento in conjunto:\n",
        "    # codigo a ser ejecutado para cada elemento\n",
        "```\n",
        "\n",
        "El lazo `for` itera sobre cada elemento del conjunto especificado y ejecuta el bloque de código dentro del lazo para cada elemento. Cuando el lazo llega al final del conjunto, este se interrumpe y el programa continúa la ejecución después del lazo.\n",
        "\n"
      ],
      "metadata": {
        "id": "HxrSZoRAMh-x"
      }
    },
    {
      "cell_type": "markdown",
      "source": [
        "El conjunto lo podemos generar con la función incorporada [`range()`](https://docs.python.org/3/library/functions.html#func-range). Se trata de una función capaz de generar una secuencia de números enteros. La estructura de esta función es:\n",
        "\n",
        "```\n",
        "range(inicio, fin, paso)\n",
        "```\n",
        "\n",
        "Según la documentación, `range()` genera una secuencia de números enteros a partir del valor del parámetro `inicio` hasta el valor del parámetro `fin`, de acuerdo con el valor del parámetro `paso`. Si `inicio` no es especificado, el valor por defecto es `0`. Si `paso` no es especificado, el valor por defecto es `1`.\n",
        "\n",
        "\n"
      ],
      "metadata": {
        "id": "6VgjyoQtPHBM"
      }
    },
    {
      "cell_type": "markdown",
      "source": [
        "Vamos a recrear el mismo contador `while` con el lazo `for`."
      ],
      "metadata": {
        "id": "ryn0hfdlUwC8"
      }
    },
    {
      "cell_type": "code",
      "source": [
        "for i in range(1,11):\n",
        "  print(i)"
      ],
      "metadata": {
        "id": "KkL1wUIj9jL4",
        "outputId": "219d2844-7107-4f8c-c4b6-cb60fe9bdddd",
        "colab": {
          "base_uri": "https://localhost:8080/"
        }
      },
      "execution_count": 92,
      "outputs": [
        {
          "output_type": "stream",
          "name": "stdout",
          "text": [
            "1\n",
            "2\n",
            "3\n",
            "4\n",
            "5\n",
            "6\n",
            "7\n",
            "8\n",
            "9\n",
            "10\n"
          ]
        }
      ]
    },
    {
      "cell_type": "code",
      "source": [
        "for i in range(1,4):\n",
        "  print(f'Alumno {i}')\n",
        "  nota1=float(input('Ingrese la nota 1: '))\n",
        "  nota2=float(input('Ingrese la nota 2: '))\n",
        "  promedio=(nota1+nota2)/2\n",
        "  print(f'la calificacion del alumno {i} fue: {promedio}')\n",
        "  print('\\n')"
      ],
      "metadata": {
        "id": "uXIZnLSr9jOu",
        "outputId": "82e10441-ccc0-456c-ef36-655e754c16ec",
        "colab": {
          "base_uri": "https://localhost:8080/"
        }
      },
      "execution_count": 94,
      "outputs": [
        {
          "output_type": "stream",
          "name": "stdout",
          "text": [
            "Alumno 1\n",
            "Ingrese la nota 1: 7.3\n",
            "Ingrese la nota 2: 8.6\n",
            "la calificacion del alumno 1 fue: 7.949999999999999\n",
            "\n",
            "\n",
            "Alumno 2\n",
            "Ingrese la nota 1: 9.6\n",
            "Ingrese la nota 2: 8.4\n",
            "la calificacion del alumno 2 fue: 9.0\n",
            "\n",
            "\n",
            "Alumno 3\n",
            "Ingrese la nota 1: 7.8\n",
            "Ingrese la nota 2: 8.4\n",
            "la calificacion del alumno 3 fue: 8.1\n",
            "\n",
            "\n"
          ]
        }
      ]
    },
    {
      "cell_type": "markdown",
      "source": [
        "# Estructuras de datos"
      ],
      "metadata": {
        "id": "8noP8OJ0Vhux"
      }
    },
    {
      "cell_type": "markdown",
      "source": [
        "Un conjunto de elementos es una colección de items, que son almacenados juntos de manera organizada. Algunos ejemplos de conjuntos de elementos en Python son las listas, los strings y los diccionarios."
      ],
      "metadata": {
        "id": "xpEUkefTu8fY"
      }
    },
    {
      "cell_type": "markdown",
      "source": [
        "## Listas"
      ],
      "metadata": {
        "id": "THSg4KYLwxIb"
      }
    },
    {
      "cell_type": "markdown",
      "source": [
        "Las listas pueden almacenar una colección de items en orden. Ellas son delimitadas por corchetes `[]` y sus elementos son separados por comas.\n",
        "\n",
        "Estas pueden almacenar cualquier tipo de items, incluyendo números, strings, objetos, otras listas, entre otros. También nos permiten almacenar items de tipos de datos diferentes juntos en una única lista."
      ],
      "metadata": {
        "id": "dzpsiqrOyJcK"
      }
    },
    {
      "cell_type": "code",
      "source": [
        "lista = ['Penélope Camacho',9.5,9.0,9.7,True]\n",
        "lista"
      ],
      "metadata": {
        "id": "DO3TBj7nAYeG",
        "colab": {
          "base_uri": "https://localhost:8080/"
        },
        "outputId": "8b3e30b7-13ae-4b1d-a83d-bd823ffb8fa3"
      },
      "execution_count": 103,
      "outputs": [
        {
          "output_type": "execute_result",
          "data": {
            "text/plain": [
              "['Penélope Camacho', 9.5, 9.0, 9.7, True]"
            ]
          },
          "metadata": {},
          "execution_count": 103
        }
      ]
    },
    {
      "cell_type": "markdown",
      "source": [
        "Las listas son organizadas en Python porque **cada elemento de la lista tiene un índice que indica su posición al interior de la lista**. Los índices comienzan en 0 van hasta el tamaño de la lista menos 1."
      ],
      "metadata": {
        "id": "qUz3sJNl6LgK"
      }
    },
    {
      "cell_type": "markdown",
      "source": [
        "Tenemos entonces 5 elementos con índices que varían de 0 a 4, ordenadamente:\n",
        "\n",
        "```\n",
        "#             [0]           [1]   [2]   [3]    [4]\n",
        "lista = ['Penélope Camacho', 9.5 , 9.0 , 9.7 , True]\n",
        "```\n",
        "\n",
        "En Python tenemos también los índices **negativos** que se inician en el último elemento con el valor de `-1` y avanzan en el universo de los negativos hasta llegar al 1° elemento:\n",
        "\n",
        "```\n",
        "#             [-5]         [-4]  [-3]  [-2]   [-1]\n",
        "lista = ['Penélope Camacho', 9.5 , 9.0 , 9.7 , True]\n",
        "```\n",
        "\n",
        "Logramos seleccionar separadamente cada elemento a través de sus respectivos índices. Colocando el nombre de la lista y en seguida el índice que será seleccionado."
      ],
      "metadata": {
        "id": "rLf-Qg526hFD"
      }
    },
    {
      "cell_type": "code",
      "source": [
        "print(lista [3])"
      ],
      "metadata": {
        "id": "4hco1Zqy88Kw",
        "outputId": "7833f52e-b362-40db-ab2e-624865a2e55d",
        "colab": {
          "base_uri": "https://localhost:8080/"
        }
      },
      "execution_count": 112,
      "outputs": [
        {
          "output_type": "stream",
          "name": "stdout",
          "text": [
            "9.7\n"
          ]
        }
      ]
    },
    {
      "cell_type": "markdown",
      "source": [
        "Una forma más dinámica de trabajar item a item en una lista es utilizando un lazo `for` para leer un elemento a la vez."
      ],
      "metadata": {
        "id": "6TaE1ijmBTCd"
      }
    },
    {
      "cell_type": "code",
      "source": [
        "for elemento in lista:\n",
        "  print(elemento)"
      ],
      "metadata": {
        "id": "M8lH0I2288Ph",
        "outputId": "b82f0036-e60d-4eaa-c109-976719619276",
        "colab": {
          "base_uri": "https://localhost:8080/"
        }
      },
      "execution_count": 114,
      "outputs": [
        {
          "output_type": "stream",
          "name": "stdout",
          "text": [
            "Penélope Camacho\n",
            "9.5\n",
            "9.0\n",
            "9.7\n",
            "True\n"
          ]
        }
      ]
    },
    {
      "cell_type": "markdown",
      "source": [
        "**Situación**: La nota `9.0` de Penélope necesita ser ajustada pues ganó 1 punto en su última nota por participación en clase. Entonces es necesario realizar un cambio en el índice `2` de `9.0` a `10.0`."
      ],
      "metadata": {
        "id": "Dh1_HnIVvucY"
      }
    },
    {
      "cell_type": "code",
      "source": [
        "lista [2]=10\n",
        "print(lista)"
      ],
      "metadata": {
        "id": "bVPoZg668z3T",
        "outputId": "0a318d53-0765-4993-8885-084822d90ab8",
        "colab": {
          "base_uri": "https://localhost:8080/"
        }
      },
      "execution_count": 115,
      "outputs": [
        {
          "output_type": "stream",
          "name": "stdout",
          "text": [
            "['Penélope Camacho', 9.5, 10, 9.7, True]\n"
          ]
        }
      ]
    },
    {
      "cell_type": "markdown",
      "source": [
        "También podemos calcular el promedio del estudiante a partir de los datos que tenemos."
      ],
      "metadata": {
        "id": "53XduzXkycAf"
      }
    },
    {
      "cell_type": "code",
      "source": [
        "promedio=(lista[1]+lista[2]+lista[3])/3\n",
        "promedio=round(promedio,2)\n",
        "print(promedio)"
      ],
      "metadata": {
        "id": "SIH61Rrb8yv4",
        "outputId": "29260319-5360-4941-b82c-df96d34265ce",
        "colab": {
          "base_uri": "https://localhost:8080/"
        }
      },
      "execution_count": 123,
      "outputs": [
        {
          "output_type": "stream",
          "name": "stdout",
          "text": [
            "9.73\n"
          ]
        }
      ]
    },
    {
      "cell_type": "markdown",
      "source": [
        "## Manipulación de listas\n",
        "\n",
        "Las listas son muy útiles en Python porque nos permiten almacenar y acceder a una colección de items de manera organizada y rápida. Estas también ofrecen muchos métodos útiles para manipular los itens almacenados, como adicionar, remover, clasificar y buscar elementos."
      ],
      "metadata": {
        "id": "d-iYr10-y4qw"
      }
    },
    {
      "cell_type": "markdown",
      "source": [
        "#### Cantidad de elementos\n",
        "\n",
        "Usamos la función [`len()`](https://docs.python.org/3/library/functions.html#len) para descubrir la cantidad de elementos de un conjunto."
      ],
      "metadata": {
        "id": "ZLqx9A97XVB_"
      }
    },
    {
      "cell_type": "code",
      "source": [
        "len(lista)"
      ],
      "metadata": {
        "id": "6q1Tmm7P8wQf",
        "outputId": "ffaf6c6d-035b-4a3c-c063-b0a2049a7e75",
        "colab": {
          "base_uri": "https://localhost:8080/"
        }
      },
      "execution_count": 118,
      "outputs": [
        {
          "output_type": "execute_result",
          "data": {
            "text/plain": [
              "5"
            ]
          },
          "metadata": {},
          "execution_count": 118
        }
      ]
    },
    {
      "cell_type": "markdown",
      "source": [
        "#### Partición\n",
        "\n",
        "La partición de listas por indexación en Python es una técnica muy útil para seleccionar un subconjunto de elementos de una lista. Esta se realiza usando la sintaxis `lista[inicio:fin]`, donde `inicio` es el índice del primer elemento que será incluído en la partición `fin` es el índice del primer elemento que será excluído de la partición."
      ],
      "metadata": {
        "id": "Z5tpstlHJss3"
      }
    },
    {
      "cell_type": "code",
      "source": [
        "lista[1:4]"
      ],
      "metadata": {
        "id": "NctvJTTU8uV9",
        "outputId": "564b8e90-8874-476e-ac0f-179448aa9e16",
        "colab": {
          "base_uri": "https://localhost:8080/"
        }
      },
      "execution_count": 121,
      "outputs": [
        {
          "output_type": "execute_result",
          "data": {
            "text/plain": [
              "[9.5, 10, 9.7]"
            ]
          },
          "metadata": {},
          "execution_count": 121
        }
      ]
    },
    {
      "cell_type": "markdown",
      "source": [
        "#### [`append()`](https://docs.python.org/3/tutorial/datastructures.html#:~:text=of%20list%20objects%3A-,list.append(x),-Add%20an%20item)\n",
        "\n",
        "Añade un elemento al final de la lista."
      ],
      "metadata": {
        "id": "O0RRyabkRzZC"
      }
    },
    {
      "cell_type": "code",
      "source": [
        "lista.append(promedio)\n",
        "lista"
      ],
      "metadata": {
        "id": "_Q0oODwa8spC",
        "outputId": "d37d8e15-0eae-440d-9788-17f2d80480f5",
        "colab": {
          "base_uri": "https://localhost:8080/"
        }
      },
      "execution_count": 130,
      "outputs": [
        {
          "output_type": "execute_result",
          "data": {
            "text/plain": [
              "['Penélope Camacho', 9.5, 10, 9.7, True, 9.73]"
            ]
          },
          "metadata": {},
          "execution_count": 130
        }
      ]
    },
    {
      "cell_type": "markdown",
      "source": [
        "#### [`extend()`](https://docs.python.org/3/tutorial/datastructures.html#:~:text=list.extend(iterable))\n",
        "\n",
        "Añade varios elementos al final de la lista.\n",
        "\n",
        "Añadiremos las notas `[10.0,8.0,9.0]` En la lista de Penélope Camacho."
      ],
      "metadata": {
        "id": "uQV91XMsUOJD"
      }
    },
    {
      "cell_type": "code",
      "source": [
        "lista.extend([10.0, 8.0, 9.0])\n",
        "lista"
      ],
      "metadata": {
        "id": "6Zk2MpMw8rQc",
        "outputId": "6d3f1ca4-3e96-4127-b2b6-b5a462c1cd2b",
        "colab": {
          "base_uri": "https://localhost:8080/"
        }
      },
      "execution_count": 132,
      "outputs": [
        {
          "output_type": "execute_result",
          "data": {
            "text/plain": [
              "['Penélope Camacho', 9.5, 10, 9.7, True, 9.73, 10.0, 8.0, 9.0]"
            ]
          },
          "metadata": {},
          "execution_count": 132
        }
      ]
    },
    {
      "cell_type": "markdown",
      "source": [
        "*A continuación te mostraremos lo que no puede realizarse con* `append`."
      ],
      "metadata": {
        "id": "IVJvkTwNUk6M"
      }
    },
    {
      "cell_type": "markdown",
      "source": [
        "#### [`remove()`](https://docs.python.org/3/tutorial/datastructures.html#:~:text=append(x).-,list.remove(x),-Remove%20the%20first)\n",
        "\n",
        "Remueve un elemento específico de la lista."
      ],
      "metadata": {
        "id": "dPGM5gpyUX1z"
      }
    },
    {
      "cell_type": "code",
      "source": [
        "lista.remove(lista[5])\n",
        "print(lista)"
      ],
      "metadata": {
        "id": "mmboODPc8nd5",
        "outputId": "7913993a-9d62-4342-fa31-da5af6a5f937",
        "colab": {
          "base_uri": "https://localhost:8080/"
        }
      },
      "execution_count": 129,
      "outputs": [
        {
          "output_type": "stream",
          "name": "stdout",
          "text": [
            "['Penélope Camacho', 9.5, 10, 9.7, True]\n"
          ]
        }
      ]
    },
    {
      "cell_type": "markdown",
      "source": [
        "## Diccionario"
      ],
      "metadata": {
        "id": "Rc22Vc08YDZ2"
      }
    },
    {
      "cell_type": "markdown",
      "source": [
        "Los diccionarios son un tipo de estructura de datos que almacenan pares de *llave-valor*. Estos son delimitados por llaves `{}` y los pares *llave-valor* son separados por comas.\n",
        "\n",
        "```\n",
        "diccionario = {llave: valor}\n",
        "```\n",
        "\n",
        "La **llave** es un elemento único que identifica a un valor en el diccionario, mientras que el **valor** es el item que será almacenado para la llave. Las llaves y sus respectivos valores se pueden emplear para **cualquier tipo de dato**.\n",
        "\n",
        "Los diccionarios son útiles para almacenar y acceder a los datos de manera organizada y rápida. Se trata de un tipo de conjunto de elementos en Python, pues almacenan una colección de items."
      ],
      "metadata": {
        "id": "PJ-cCKPjeWxL"
      }
    },
    {
      "cell_type": "code",
      "source": [
        "diccionario = {'llave1':1, 'llave2':2}\n",
        "diccionario"
      ],
      "metadata": {
        "id": "NDHhzooE8ld5",
        "outputId": "c17c1ae3-7630-4d44-a07c-c90950db4b38",
        "colab": {
          "base_uri": "https://localhost:8080/"
        }
      },
      "execution_count": 137,
      "outputs": [
        {
          "output_type": "execute_result",
          "data": {
            "text/plain": [
              "{'llave1': 1, 'llave2': 2}"
            ]
          },
          "metadata": {},
          "execution_count": 137
        }
      ]
    },
    {
      "cell_type": "markdown",
      "source": [
        "---\n",
        "**Situación:**\n",
        "\n",
        "Vamos a crear un conjunto de datos con las informaciones de matrícula de un estudiante. Los datos son los siguientes:\n",
        "\n",
        "- matrícula: 2000168933\n",
        "- día de registro: 25\n",
        "- mes de registro: 10\n",
        "- grupo: 2E"
      ],
      "metadata": {
        "id": "_JbQ3KMKfkXU"
      }
    },
    {
      "cell_type": "code",
      "source": [
        "estudiante={'matricula': 2000168933, 'diaDeRegistro': 25, 'mesDeRegistro': 10, 'grupo': \"2E\"}\n",
        "estudiante"
      ],
      "metadata": {
        "id": "0lfOu_c38jED",
        "outputId": "c5291031-46e1-4bb6-9d1c-6fdab979551a",
        "colab": {
          "base_uri": "https://localhost:8080/"
        }
      },
      "execution_count": 139,
      "outputs": [
        {
          "output_type": "execute_result",
          "data": {
            "text/plain": [
              "{'matricula': 2000168933,\n",
              " 'diaDeRegistro': 25,\n",
              " 'mesDeRegistro': 10,\n",
              " 'grupo': '2E'}"
            ]
          },
          "metadata": {},
          "execution_count": 139
        }
      ]
    },
    {
      "cell_type": "code",
      "source": [
        "estudiante['matricula']"
      ],
      "metadata": {
        "id": "XIuqpTTy8jHV",
        "outputId": "b17bc0b3-2279-4983-e6f2-6c6c9bff22d9",
        "colab": {
          "base_uri": "https://localhost:8080/"
        }
      },
      "execution_count": 140,
      "outputs": [
        {
          "output_type": "execute_result",
          "data": {
            "text/plain": [
              "2000168933"
            ]
          },
          "metadata": {},
          "execution_count": 140
        }
      ]
    },
    {
      "cell_type": "markdown",
      "source": [
        "Es posible sustituir los valores dentro de una llave. Por ejemplo, recibimos la información de que el grupo del estudiante que registramos cambio a `'2G'` y ahora necesitamos cambiar el valor de la llave `'grupo'`."
      ],
      "metadata": {
        "id": "8ex5pt2ykDd2"
      }
    },
    {
      "cell_type": "code",
      "source": [
        "estudiante['grupo']=\"2G\"\n",
        "estudiante['grupo']"
      ],
      "metadata": {
        "id": "kQGlp36b8fyP",
        "outputId": "d2430791-618a-4678-9370-14a2ef50a879",
        "colab": {
          "base_uri": "https://localhost:8080/",
          "height": 36
        }
      },
      "execution_count": 141,
      "outputs": [
        {
          "output_type": "execute_result",
          "data": {
            "text/plain": [
              "'2G'"
            ],
            "application/vnd.google.colaboratory.intrinsic+json": {
              "type": "string"
            }
          },
          "metadata": {},
          "execution_count": 141
        }
      ]
    },
    {
      "cell_type": "code",
      "source": [],
      "metadata": {
        "id": "DnfH_qHi8f17"
      },
      "execution_count": null,
      "outputs": []
    },
    {
      "cell_type": "markdown",
      "source": [
        "También podemos añadir otros datos al diccionario. Vamos a añadir la información sobre la modalidad de estudio, nuestro estudiante estudiará inicialemente en la modalidad EAD.\n",
        "\n",
        "Definiremos una llave llamada `'modalidad'` con el valor `'EAD'`."
      ],
      "metadata": {
        "id": "wB0qRb56mQvv"
      }
    },
    {
      "cell_type": "code",
      "source": [
        "estudiante['modalidad']=\"EAD\"\n",
        "estudiante"
      ],
      "metadata": {
        "id": "EeLYdlIm8d8a",
        "outputId": "5f93c77c-2296-435c-ca49-81477511de29",
        "colab": {
          "base_uri": "https://localhost:8080/"
        }
      },
      "execution_count": 142,
      "outputs": [
        {
          "output_type": "execute_result",
          "data": {
            "text/plain": [
              "{'matricula': 2000168933,\n",
              " 'diaDeRegistro': 25,\n",
              " 'mesDeRegistro': 10,\n",
              " 'grupo': '2G',\n",
              " 'modalidad': 'EAD'}"
            ]
          },
          "metadata": {},
          "execution_count": 142
        }
      ]
    },
    {
      "cell_type": "code",
      "source": [
        "len(estudiante)"
      ],
      "metadata": {
        "id": "olDIavsm8d_o",
        "outputId": "c8dc9bfc-9f59-420d-9be7-fccab27bb398",
        "colab": {
          "base_uri": "https://localhost:8080/"
        }
      },
      "execution_count": 143,
      "outputs": [
        {
          "output_type": "execute_result",
          "data": {
            "text/plain": [
              "5"
            ]
          },
          "metadata": {},
          "execution_count": 143
        }
      ]
    },
    {
      "cell_type": "markdown",
      "source": [
        "## Profundizando en diccionarios"
      ],
      "metadata": {
        "id": "LJ3o_inroxg_"
      }
    },
    {
      "cell_type": "markdown",
      "source": [
        "#### [`pop()`](https://python-reference.readthedocs.io/en/latest/docs/dict/pop.html)\n",
        "Remueve un item de un diccionario y lo representa en la salida."
      ],
      "metadata": {
        "id": "2N3GLlkSpBiu"
      }
    },
    {
      "cell_type": "code",
      "source": [
        "estudiante.pop('grupo')"
      ],
      "metadata": {
        "id": "ZsSCZx6G8b-T",
        "outputId": "2813120f-a15c-4e07-d0aa-76228e150b38",
        "colab": {
          "base_uri": "https://localhost:8080/",
          "height": 36
        }
      },
      "execution_count": 145,
      "outputs": [
        {
          "output_type": "execute_result",
          "data": {
            "text/plain": [
              "'2G'"
            ],
            "application/vnd.google.colaboratory.intrinsic+json": {
              "type": "string"
            }
          },
          "metadata": {},
          "execution_count": 145
        }
      ]
    },
    {
      "cell_type": "code",
      "source": [
        "estudiante"
      ],
      "metadata": {
        "id": "7lQ8_jpi8cBR",
        "outputId": "0e240f67-b281-46c2-cc80-ef124778296b",
        "colab": {
          "base_uri": "https://localhost:8080/"
        }
      },
      "execution_count": 146,
      "outputs": [
        {
          "output_type": "execute_result",
          "data": {
            "text/plain": [
              "{'matricula': 2000168933,\n",
              " 'diaDeRegistro': 25,\n",
              " 'mesDeRegistro': 10,\n",
              " 'modalidad': 'EAD'}"
            ]
          },
          "metadata": {},
          "execution_count": 146
        }
      ]
    },
    {
      "cell_type": "markdown",
      "source": [
        "#### [`items()`](https://python-reference.readthedocs.io/en/latest/docs/dict/items.html)\n",
        "Retorna una lista de pares `llave-valor` del diccionario."
      ],
      "metadata": {
        "id": "sYZGvJJYrW_y"
      }
    },
    {
      "cell_type": "code",
      "source": [
        "estudiante.items()"
      ],
      "metadata": {
        "id": "ncdycLV08an7",
        "outputId": "9c45df6a-1a01-4a5f-b11c-1db01e5dd8e1",
        "colab": {
          "base_uri": "https://localhost:8080/"
        }
      },
      "execution_count": 147,
      "outputs": [
        {
          "output_type": "execute_result",
          "data": {
            "text/plain": [
              "dict_items([('matricula', 2000168933), ('diaDeRegistro', 25), ('mesDeRegistro', 10), ('modalidad', 'EAD')])"
            ]
          },
          "metadata": {},
          "execution_count": 147
        }
      ]
    },
    {
      "cell_type": "markdown",
      "source": [
        "#### [`keys()`](https://python-reference.readthedocs.io/en/latest/docs/dict/keys.html)\n",
        "Retorna una lista de las llaves del diccionario."
      ],
      "metadata": {
        "id": "Lb0utNFGrZBY"
      }
    },
    {
      "cell_type": "code",
      "source": [
        "estudiante.keys()"
      ],
      "metadata": {
        "id": "eZo0biaM8ZVs",
        "outputId": "7a3aa432-c143-415b-df07-a34314af13e7",
        "colab": {
          "base_uri": "https://localhost:8080/"
        }
      },
      "execution_count": 148,
      "outputs": [
        {
          "output_type": "execute_result",
          "data": {
            "text/plain": [
              "dict_keys(['matricula', 'diaDeRegistro', 'mesDeRegistro', 'modalidad'])"
            ]
          },
          "metadata": {},
          "execution_count": 148
        }
      ]
    },
    {
      "cell_type": "markdown",
      "source": [
        "#### [`values()`](https://python-reference.readthedocs.io/en/latest/docs/dict/values.html)\n",
        "Retorna una lista de los valores del diccionario."
      ],
      "metadata": {
        "id": "qKyu3bf9rbtX"
      }
    },
    {
      "cell_type": "code",
      "source": [
        "estudiante.values()"
      ],
      "metadata": {
        "id": "-NxRT9C18Yvo",
        "outputId": "b9d5ff3e-358e-46c1-b2f4-833e6388a6c1",
        "colab": {
          "base_uri": "https://localhost:8080/"
        }
      },
      "execution_count": 149,
      "outputs": [
        {
          "output_type": "execute_result",
          "data": {
            "text/plain": [
              "dict_values([2000168933, 25, 10, 'EAD'])"
            ]
          },
          "metadata": {},
          "execution_count": 149
        }
      ]
    },
    {
      "cell_type": "markdown",
      "source": [
        "### Lectura de valores con el lazo `for`"
      ],
      "metadata": {
        "id": "e3XVjR8Frp75"
      }
    },
    {
      "cell_type": "code",
      "source": [
        "for llave in estudiante.keys():\n",
        "  print(llave)"
      ],
      "metadata": {
        "id": "NYcjU-Ip8Xan",
        "outputId": "03bd6e27-d7b6-49b5-e335-20d7e8be931f",
        "colab": {
          "base_uri": "https://localhost:8080/"
        }
      },
      "execution_count": 150,
      "outputs": [
        {
          "output_type": "stream",
          "name": "stdout",
          "text": [
            "matricula\n",
            "diaDeRegistro\n",
            "mesDeRegistro\n",
            "modalidad\n"
          ]
        }
      ]
    },
    {
      "cell_type": "code",
      "source": [
        "for llave,valor in estudiante.items():\n",
        "  print(llave,' --> ',valor)"
      ],
      "metadata": {
        "id": "aAnpP1Wv8XfJ",
        "outputId": "33e2f6ca-a37f-44a1-ba5a-699ec56adbae",
        "colab": {
          "base_uri": "https://localhost:8080/"
        }
      },
      "execution_count": 153,
      "outputs": [
        {
          "output_type": "stream",
          "name": "stdout",
          "text": [
            "matricula  -->  2000168933\n",
            "diaDeRegistro  -->  25\n",
            "mesDeRegistro  -->  10\n",
            "modalidad  -->  EAD\n"
          ]
        }
      ]
    }
  ]
}